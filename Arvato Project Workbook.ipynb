{
 "cells": [
  {
   "cell_type": "markdown",
   "metadata": {},
   "source": [
    "# Capstone Project: Create a Customer Segmentation Report for Arvato Financial Services\n",
    "\n",
    "In this project, you will analyze demographics data for customers of a mail-order sales company in Germany, comparing it against demographics information for the general population. You'll use unsupervised learning techniques to perform customer segmentation, identifying the parts of the population that best describe the core customer base of the company. Then, you'll apply what you've learned on a third dataset with demographics information for targets of a marketing campaign for the company, and use a model to predict which individuals are most likely to convert into becoming customers for the company. The data that you will use has been provided by our partners at Bertelsmann Arvato Analytics, and represents a real-life data science task.\n",
    "\n",
    "If you completed the first term of this program, you will be familiar with the first part of this project, from the unsupervised learning project. The versions of those two datasets used in this project will include many more features and has not been pre-cleaned. You are also free to choose whatever approach you'd like to analyzing the data rather than follow pre-determined steps. In your work on this project, make sure that you carefully document your steps and decisions, since your main deliverable for this project will be a blog post reporting your findings."
   ]
  },
  {
   "cell_type": "code",
   "execution_count": 1,
   "metadata": {},
   "outputs": [],
   "source": [
    "# import libraries here; add more as necessary\n",
    "import numpy as np\n",
    "import pandas as pd\n",
    "import matplotlib.pyplot as plt\n",
    "import seaborn as sns\n",
    "\n",
    "from sklearn.base import BaseEstimator, TransformerMixin\n",
    "from sklearn.preprocessing import OneHotEncoder, StandardScaler\n",
    "from sklearn.pipeline import FeatureUnion, Pipeline \n",
    "\n",
    "# magic word for producing visualizations in notebook\n",
    "%matplotlib inline"
   ]
  },
  {
   "cell_type": "markdown",
   "metadata": {},
   "source": [
    "## Part 0: Get to Know the Data\n",
    "\n",
    "There are four data files associated with this project:\n",
    "\n",
    "- `Udacity_AZDIAS_052018.csv`: Demographics data for the general population of Germany; 891 211 persons (rows) x 366 features (columns).\n",
    "- `Udacity_CUSTOMERS_052018.csv`: Demographics data for customers of a mail-order company; 191 652 persons (rows) x 369 features (columns).\n",
    "- `Udacity_MAILOUT_052018_TRAIN.csv`: Demographics data for individuals who were targets of a marketing campaign; 42 982 persons (rows) x 367 (columns).\n",
    "- `Udacity_MAILOUT_052018_TEST.csv`: Demographics data for individuals who were targets of a marketing campaign; 42 833 persons (rows) x 366 (columns).\n",
    "\n",
    "Each row of the demographics files represents a single person, but also includes information outside of individuals, including information about their household, building, and neighborhood. Use the information from the first two files to figure out how customers (\"CUSTOMERS\") are similar to or differ from the general population at large (\"AZDIAS\"), then use your analysis to make predictions on the other two files (\"MAILOUT\"), predicting which recipients are most likely to become a customer for the mail-order company.\n",
    "\n",
    "The \"CUSTOMERS\" file contains three extra columns ('CUSTOMER_GROUP', 'ONLINE_PURCHASE', and 'PRODUCT_GROUP'), which provide broad information about the customers depicted in the file. The original \"MAILOUT\" file included one additional column, \"RESPONSE\", which indicated whether or not each recipient became a customer of the company. For the \"TRAIN\" subset, this column has been retained, but in the \"TEST\" subset it has been removed; it is against that withheld column that your final predictions will be assessed in the Kaggle competition.\n",
    "\n",
    "Otherwise, all of the remaining columns are the same between the three data files. For more information about the columns depicted in the files, you can refer to two Excel spreadsheets provided in the workspace. [One of them](./DIAS Information Levels - Attributes 2017.xlsx) is a top-level list of attributes and descriptions, organized by informational category. [The other](./DIAS Attributes - Values 2017.xlsx) is a detailed mapping of data values for each feature in alphabetical order.\n",
    "\n",
    "In the below cell, we've provided some initial code to load in the first two datasets. Note for all of the `.csv` data files in this project that they're semicolon (`;`) delimited, so an additional argument in the [`read_csv()`](https://pandas.pydata.org/pandas-docs/stable/generated/pandas.read_csv.html) call has been included to read in the data properly. Also, considering the size of the datasets, it may take some time for them to load completely.\n",
    "\n",
    "You'll notice when the data is loaded in that a warning message will immediately pop up. Before you really start digging into the modeling and analysis, you're going to need to perform some cleaning. Take some time to browse the structure of the data and look over the informational spreadsheets to understand the data values. Make some decisions on which features to keep, which features to drop, and if any revisions need to be made on data formats. It'll be a good idea to create a function with pre-processing steps, since you'll need to clean all of the datasets before you work with them."
   ]
  },
  {
   "cell_type": "code",
   "execution_count": 2,
   "metadata": {},
   "outputs": [
    {
     "name": "stderr",
     "output_type": "stream",
     "text": [
      "/opt/conda/lib/python3.6/site-packages/IPython/core/interactiveshell.py:2785: DtypeWarning: Columns (18,19) have mixed types. Specify dtype option on import or set low_memory=False.\n",
      "  interactivity=interactivity, compiler=compiler, result=result)\n"
     ]
    }
   ],
   "source": [
    "customers = pd.read_csv('../../data/Term2/capstone/arvato_data/Udacity_CUSTOMERS_052018.csv', sep=';')"
   ]
  },
  {
   "cell_type": "code",
   "execution_count": 3,
   "metadata": {},
   "outputs": [
    {
     "data": {
      "text/plain": [
       "(191652, 369)"
      ]
     },
     "execution_count": 3,
     "metadata": {},
     "output_type": "execute_result"
    }
   ],
   "source": [
    "customers.shape"
   ]
  },
  {
   "cell_type": "code",
   "execution_count": 4,
   "metadata": {},
   "outputs": [],
   "source": [
    "customers.to_csv('customers.csv')"
   ]
  },
  {
   "cell_type": "code",
   "execution_count": 5,
   "metadata": {},
   "outputs": [
    {
     "name": "stderr",
     "output_type": "stream",
     "text": [
      "/opt/conda/lib/python3.6/site-packages/IPython/core/interactiveshell.py:2785: DtypeWarning: Columns (18,19) have mixed types. Specify dtype option on import or set low_memory=False.\n",
      "  interactivity=interactivity, compiler=compiler, result=result)\n"
     ]
    }
   ],
   "source": [
    "# load in the data\n",
    "azdias = pd.read_csv('../../data/Term2/capstone/arvato_data/Udacity_AZDIAS_052018.csv', sep=';')"
   ]
  },
  {
   "cell_type": "code",
   "execution_count": 6,
   "metadata": {
    "scrolled": true
   },
   "outputs": [
    {
     "data": {
      "text/plain": [
       "(891221, 366)"
      ]
     },
     "execution_count": 6,
     "metadata": {},
     "output_type": "execute_result"
    }
   ],
   "source": [
    "azdias.shape"
   ]
  },
  {
   "cell_type": "code",
   "execution_count": null,
   "metadata": {},
   "outputs": [],
   "source": [
    "azdias.to_csv('azdias.csv')"
   ]
  },
  {
   "cell_type": "code",
   "execution_count": null,
   "metadata": {},
   "outputs": [],
   "source": [
    "for var in customers.columns:\n",
    "    print(var)"
   ]
  },
  {
   "cell_type": "markdown",
   "metadata": {},
   "source": [
    "###  Define variable's data type "
   ]
  },
  {
   "cell_type": "code",
   "execution_count": null,
   "metadata": {},
   "outputs": [],
   "source": [
    "var_numeric = ['ANZ_HAUSHALTE_AKTIV','ANZ_HH_TITEL','ANZ_KINDER','ANZ_PERSONEN','ANZ_STATISTISCHE_HAUSHALTE','ANZ_TITEL','KBA13_ANZAHL_PKW']\n",
    "\n",
    "var_ordinal = ['AKT_DAT_KL','ALTER_HH','ALTER_KIND1','ALTER_KIND2','ALTER_KIND3','ALTER_KIND4','ARBEIT','BALLRAUM','D19_BANKEN_ANZ_12','D19_BANKEN_ANZ_24','D19_BANKEN_DATUM','D19_BANKEN_OFFLINE_DATUM','D19_BANKEN_ONLINE_DATUM','D19_BANKEN_ONLINE_QUOTE_12','D19_GESAMT_ANZ_12','D19_GESAMT_ANZ_24','D19_GESAMT_DATUM','D19_GESAMT_OFFLINE_DATUM','D19_GESAMT_ONLINE_DATUM','D19_GESAMT_ONLINE_QUOTE_12','D19_TELKO_ANZ_12','D19_TELKO_ANZ_24','D19_TELKO_DATUM','D19_TELKO_OFFLINE_DATUM','D19_TELKO_ONLINE_DATUM','D19_TELKO_ONLINE_QUOTE_12','D19_VERSAND_ANZ_12','D19_VERSAND_ANZ_24','D19_VERSAND_DATUM','D19_VERSAND_OFFLINE_DATUM','D19_VERSAND_ONLINE_DATUM','D19_VERSAND_ONLINE_QUOTE_12','D19_VERSI_ANZ_12','D19_VERSI_ANZ_24','D19_VERSI_DATUM','D19_VERSI_OFFLINE_DATUM','D19_VERSI_ONLINE_DATUM','D19_VERSI_ONLINE_QUOTE_12','EWDICHTE','FINANZ_ANLEGER','FINANZ_HAUSBAUER','FINANZ_MINIMALIST','FINANZ_SPARER','FINANZ_UNAUFFAELLIGER','FINANZ_VORSORGER','FIRMENDICHTE','HH_EINKOMMEN_SCORE','INNENSTADT','KBA05_ALTER1','KBA05_ALTER2','KBA05_ALTER3','KBA05_ALTER4','KBA05_ANHANG','KBA05_ANTG1','KBA05_ANTG2','KBA05_ANTG3','KBA05_ANTG4','KBA05_AUTOQUOT','KBA05_BAUMAX','KBA05_CCM1','KBA05_CCM2','KBA05_CCM3','KBA05_CCM4','KBA05_DIESEL','KBA05_FRAU','KBA05_GBZ','KBA05_HERST1','KBA05_HERST2','KBA05_HERST3','KBA05_HERST4','KBA05_HERST5','KBA05_KRSAQUOT','KBA05_KRSHERST1','KBA05_KRSHERST2','KBA05_KRSHERST3','KBA05_KRSKLEIN','KBA05_KRSOBER','KBA05_KRSVAN','KBA05_KRSZUL','KBA05_KW1','KBA05_KW2','KBA05_KW3','KBA05_MAXAH','KBA05_MAXBJ','KBA05_MAXSEG','KBA05_MAXVORB','KBA05_MOD1','KBA05_MOD2','KBA05_MOD3','KBA05_MOD4','KBA05_MOD8','KBA05_MODTEMP','KBA05_MOTOR','KBA05_MOTRAD','KBA05_SEG1','KBA05_SEG10','KBA05_SEG2','KBA05_SEG3','KBA05_SEG4','KBA05_SEG5','KBA05_SEG7','KBA05_SEG8','KBA05_SEG9','KBA05_VORB0','KBA05_VORB1','KBA05_VORB2','KBA05_ZUL1','KBA05_ZUL2','KBA05_ZUL3','KBA05_ZUL4','KBA13_ALTERHALTER_30','KBA13_ALTERHALTER_45','KBA13_ALTERHALTER_60','KBA13_ALTERHALTER_61','KBA13_ANTG1','KBA13_ANTG2','KBA13_ANTG3','KBA13_ANTG4','KBA13_AUDI','KBA13_AUTOQUOTE','KBA13_BAUMAX','KBA13_BJ_1999','KBA13_BJ_2000','KBA13_BJ_2004','KBA13_BJ_2006','KBA13_BJ_2008','KBA13_BJ_2009','KBA13_BMW','KBA13_CCM_0_1400','KBA13_CCM_1000','KBA13_CCM_1200','KBA13_CCM_1400','KBA13_CCM_1401_2500','KBA13_CCM_1500','KBA13_CCM_1600','KBA13_CCM_1800','KBA13_CCM_2000','KBA13_CCM_2500','KBA13_CCM_2501','KBA13_CCM_3000','KBA13_CCM_3001','KBA13_FAB_ASIEN','KBA13_FAB_SONSTIGE','KBA13_FIAT','KBA13_FORD','KBA13_GBZ','KBA13_HALTER_20','KBA13_HALTER_25','KBA13_HALTER_30','KBA13_HALTER_35','KBA13_HALTER_40','KBA13_HALTER_45','KBA13_HALTER_50','KBA13_HALTER_55','KBA13_HALTER_60','KBA13_HALTER_65','KBA13_HALTER_66','KBA13_HERST_ASIEN','KBA13_HERST_AUDI_VW','KBA13_HERST_BMW_BENZ','KBA13_HERST_EUROPA','KBA13_HERST_FORD_OPEL','KBA13_HERST_SONST','KBA13_HHZ','KBA13_KMH_0_140','KBA13_KMH_110','KBA13_KMH_140','KBA13_KMH_140_210','KBA13_KMH_180','KBA13_KMH_210','KBA13_KMH_211','KBA13_KMH_250','KBA13_KMH_251','KBA13_KRSAQUOT','KBA13_KRSHERST_AUDI_VW','KBA13_KRSHERST_BMW_BENZ','KBA13_KRSHERST_FORD_OPEL','KBA13_KRSSEG_KLEIN','KBA13_KRSSEG_OBER','KBA13_KRSSEG_VAN','KBA13_KRSZUL_NEU','KBA13_KW_0_60','KBA13_KW_110','KBA13_KW_120','KBA13_KW_121','KBA13_KW_30','KBA13_KW_40','KBA13_KW_50','KBA13_KW_60','KBA13_KW_61_120','KBA13_KW_70','KBA13_KW_80','KBA13_KW_90','KBA13_MAZDA','KBA13_MERCEDES','KBA13_MOTOR','KBA13_NISSAN','KBA13_OPEL','KBA13_PEUGEOT','KBA13_RENAULT','KBA13_SEG_GELAENDEWAGEN','KBA13_SEG_GROSSRAUMVANS','KBA13_SEG_KLEINST','KBA13_SEG_KLEINWAGEN','KBA13_SEG_KOMPAKTKLASSE','KBA13_SEG_MINIVANS','KBA13_SEG_MINIWAGEN','KBA13_SEG_MITTELKLASSE','KBA13_SEG_OBEREMITTELKLASSE','KBA13_SEG_OBERKLASSE','KBA13_SEG_SONSTIGE','KBA13_SEG_SPORTWAGEN','KBA13_SEG_UTILITIES','KBA13_SEG_VAN','KBA13_SEG_WOHNMOBILE','KBA13_SITZE_4','KBA13_SITZE_5','KBA13_SITZE_6','KBA13_TOYOTA','KBA13_VORB_0','KBA13_VORB_1','KBA13_VORB_1_2','KBA13_VORB_2','KBA13_VORB_3','KBA13_VW','KKK','KOMBIALTER','MOBI_RASTER','MOBI_REGIO','ORTSGR_KLS9','PLZ8_ANTG1','PLZ8_ANTG2','PLZ8_ANTG3','PLZ8_ANTG4','PLZ8_BAUMAX','PLZ8_GBZ','PLZ8_HHZ','RELAT_AB','RT_KEIN_ANREIZ','RT_SCHNAEPPCHEN','RT_UEBERGROESSE','SEMIO_DOM','SEMIO_ERL','SEMIO_FAM','SEMIO_KAEM','SEMIO_KRIT','SEMIO_KULT','SEMIO_LUST','SEMIO_MAT','SEMIO_PFLICHT','SEMIO_RAT','SEMIO_REL','SEMIO_SOZ','SEMIO_TRADV','SEMIO_VERT','STRUKTURTYP','UMFELD_ALT','UMFELD_JUNG','VHA','VHN','VK_DHT4A','VK_DISTANZ','VK_ZG11','W_KEIT_KIND_HH','WOHNDAUER_2008','ALTERSKATEGORIE_GROB']\n",
    "\n",
    "var_binary = ['GREEN_AVANTGARDE','HH_DELTA_FLAG','KBA05_SEG6','KONSUMZELLE','SOHO_KZ','UNGLEICHENN_FLAG','ANREDE_KZ']\n",
    "\n",
    "var_date = ['EINGEFUEGT_AM','EINGEZOGENAM_HH_JAHR','GEBURTSJAHR','MIN_GEBAEUDEJAHR']\n",
    "\n",
    "var_categorical = ['AGER_TYP','ALTERSKATEGORIE_FEIN','CAMEO_DEU_2015','CAMEO_DEUG_2015','CAMEO_INTL_2015','CJT_GESAMTTYP','CJT_KATALOGNUTZER','CJT_TYP_1','CJT_TYP_2','CJT_TYP_3','CJT_TYP_4','CJT_TYP_5','CJT_TYP_6','D19_BANKEN_DIREKT','D19_BANKEN_GROSS','D19_BANKEN_LOKAL','D19_BANKEN_REST','D19_BEKLEIDUNG_GEH','D19_BEKLEIDUNG_REST','D19_BILDUNG','D19_BIO_OEKO','D19_BUCH_CD','D19_DIGIT_SERV','D19_DROGERIEARTIKEL','D19_ENERGIE','D19_FREIZEIT','D19_GARTEN','D19_HANDWERK','D19_HAUS_DEKO','D19_KINDERARTIKEL','D19_KONSUMTYP','D19_KONSUMTYP_MAX','D19_KOSMETIK','D19_LEBENSMITTEL','D19_LETZTER_KAUF_BRANCHE','D19_LOTTO','D19_NAHRUNGSERGAENZUNG','D19_RATGEBER','D19_REISEN','D19_SAMMELARTIKEL','D19_SCHUHE','D19_SONSTIGE','D19_SOZIALES','D19_TECHNIK','D19_TELKO_MOBILE','D19_TELKO_REST','D19_TIERARTIKEL','D19_VERSAND_REST','D19_VERSICHERUNGEN','D19_VOLLSORTIMENT','D19_WEIN_FEINKOST','DSL_FLAG','EXTSEL992','FINANZTYP','GEBAEUDETYP','GEBAEUDETYP_RASTER','GEMEINDETYP','GFK_URLAUBERTYP','HEALTH_TYP','KBA05_HERSTTEMP','KBA05_MAXHERST','KK_KUNDENTYP','KONSUMNAEHE','LP_FAMILIE_FEIN','LP_FAMILIE_GROB','LP_LEBENSPHASE_FEIN','LP_LEBENSPHASE_GROB','LP_STATUS_FEIN','LP_STATUS_GROB','NATIONALITAET_KZ','ONLINE_AFFINITAET','OST_WEST_KZ','PRAEGENDE_JUGENDJAHRE','REGIOTYP','RETOURTYP_BK_S','SHOPPER_TYP','TITEL_KZ','VERDICHTUNGSRAUM','VERS_TYP','WOHNLAGE','ZABEOTYP']\n",
    "\n",
    "var_other = ['CUSTOMER_GROUP', 'LNR', 'ONLINE_PURCHASE', 'PRODUCT_GROUP']"
   ]
  },
  {
   "cell_type": "code",
   "execution_count": null,
   "metadata": {},
   "outputs": [],
   "source": [
    "#check there is no variable missing out.\n",
    "print(len(customers.columns) == len(var_numeric+var_ordinal+var_binary+var_categorical+var_date+var_other))\n",
    "print(set(customers.columns) == set(var_numeric+var_ordinal+var_binary+var_categorical+var_date+var_other))"
   ]
  },
  {
   "cell_type": "code",
   "execution_count": null,
   "metadata": {},
   "outputs": [],
   "source": [
    "for var in customers.columns:\n",
    "    if customers[var].dtype == 'object' and var not in var_categorical:\n",
    "        print(var, customers[var].dtype)\n",
    "        \n",
    "# EINGEFUEGT_AM -> var_date\n",
    "# PRODUCT_GROUP -> var_other\n",
    "# CUSTOMER_GROUP -> var_other"
   ]
  },
  {
   "cell_type": "code",
   "execution_count": null,
   "metadata": {},
   "outputs": [],
   "source": [
    "for var in azdias.columns:\n",
    "    if azdias[var].dtype == 'object' and var not in var_categorical:\n",
    "        print(var, azdias[var].dtype)"
   ]
  },
  {
   "cell_type": "markdown",
   "metadata": {},
   "source": [
    "#### Data Preprocessing for numeric variables"
   ]
  },
  {
   "cell_type": "code",
   "execution_count": null,
   "metadata": {},
   "outputs": [],
   "source": [
    "for var in var_numeric:\n",
    "    print(var, customers[var].nunique())"
   ]
  },
  {
   "cell_type": "code",
   "execution_count": null,
   "metadata": {},
   "outputs": [],
   "source": [
    "for var in var_numeric:\n",
    "    print(var, customers[var].unique()[0:20])"
   ]
  },
  {
   "cell_type": "code",
   "execution_count": null,
   "metadata": {
    "scrolled": true
   },
   "outputs": [],
   "source": [
    "customers[var_numeric].describe()"
   ]
  },
  {
   "cell_type": "code",
   "execution_count": null,
   "metadata": {
    "scrolled": true
   },
   "outputs": [],
   "source": [
    "azdias[var_numeric].describe()"
   ]
  },
  {
   "cell_type": "code",
   "execution_count": null,
   "metadata": {},
   "outputs": [],
   "source": [
    "# check two things: dtype and negative value\n",
    "def CheckNumeric(data):\n",
    "    var_numeric =  ['ANZ_HAUSHALTE_AKTIV','ANZ_HH_TITEL','ANZ_KINDER','ANZ_PERSONEN','ANZ_STATISTISCHE_HAUSHALTE','ANZ_TITEL','KBA13_ANZAHL_PKW']\n",
    "    cnt = 0\n",
    "    for var in var_numeric:\n",
    "        if customers[var].dtype == 'object':\n",
    "            print(var, 'is not numeric variable')\n",
    "            cnt += 1\n",
    "        if customers[var].min() < 0:\n",
    "            print(var, 'has some abnormal values!')\n",
    "            cnt += 1\n",
    "    if cnt == 0:\n",
    "        print('All checked!')\n",
    "    cnt = 0"
   ]
  },
  {
   "cell_type": "code",
   "execution_count": null,
   "metadata": {},
   "outputs": [],
   "source": [
    "CheckNumeric(customers)"
   ]
  },
  {
   "cell_type": "code",
   "execution_count": null,
   "metadata": {},
   "outputs": [],
   "source": [
    "CheckNumeric(azdias)"
   ]
  },
  {
   "cell_type": "markdown",
   "metadata": {},
   "source": [
    "#### Data Preprocessing for binary variables"
   ]
  },
  {
   "cell_type": "code",
   "execution_count": null,
   "metadata": {},
   "outputs": [],
   "source": [
    "for var in var_binary:\n",
    "    print(var, customers[var].unique())"
   ]
  },
  {
   "cell_type": "code",
   "execution_count": null,
   "metadata": {},
   "outputs": [],
   "source": [
    "for var in var_binary:\n",
    "    print(var, azdias[var].unique())"
   ]
  },
  {
   "cell_type": "code",
   "execution_count": null,
   "metadata": {},
   "outputs": [],
   "source": [
    "# recode [1, 2] into [0,1] and recode all values other than [0,1] into missing value\n",
    "\n",
    "def RecoderBinary(data):\n",
    "    var_binary = ['GREEN_AVANTGARDE','HH_DELTA_FLAG','KBA05_SEG6','KONSUMZELLE','SOHO_KZ','UNGLEICHENN_FLAG','ANREDE_KZ','ANREDE_KZ']\n",
    "    data.loc[:,'ANREDE_KZ'] = data['ANREDE_KZ'].map({1:0,2:1})\n",
    "    \n",
    "    for var in var_binary:\n",
    "        l = data[var].unique()\n",
    "        for e in l[~(np.isnan(l))]:\n",
    "            if e not in [0,1]:\n",
    "                print(var, 'has been recoded.')\n",
    "                data.loc[:,var] = data[var].map({0:0,1:1})           \n",
    "            \n",
    "    print('All checked!')"
   ]
  },
  {
   "cell_type": "code",
   "execution_count": null,
   "metadata": {},
   "outputs": [],
   "source": [
    "RecoderBinary(customers)"
   ]
  },
  {
   "cell_type": "code",
   "execution_count": null,
   "metadata": {},
   "outputs": [],
   "source": [
    "RecoderBinary(azdias)"
   ]
  },
  {
   "cell_type": "markdown",
   "metadata": {},
   "source": [
    "#### Data Preprocessing for ordinal variables"
   ]
  },
  {
   "cell_type": "code",
   "execution_count": null,
   "metadata": {
    "scrolled": true
   },
   "outputs": [],
   "source": [
    "for var in var_ordinal:\n",
    "    if customers[var].nunique() > 10:\n",
    "        print(var, customers[var].nunique())"
   ]
  },
  {
   "cell_type": "code",
   "execution_count": null,
   "metadata": {},
   "outputs": [],
   "source": [
    "for var in var_ordinal:\n",
    "    print(var, sorted(customers[var].unique()))"
   ]
  },
  {
   "cell_type": "code",
   "execution_count": null,
   "metadata": {},
   "outputs": [],
   "source": [
    "# Selected columns that have special \n",
    "recode_ordinal = ['ARBEIT', 'KBA05_ALTER1', 'KBA05_ALTER2', 'KBA05_ALTER3', 'KBA05_ALTER4', 'KBA05_ANHANG', 'KBA05_AUTOQUOT', 'KBA05_CCM1', 'KBA05_CCM2', 'KBA05_CCM3', 'KBA05_CCM4', 'KBA05_DIESEL', 'KBA05_FRAU', 'KBA05_HERST1', 'KBA05_HERST2', 'KBA05_HERST3', 'KBA05_HERST4', 'KBA05_HERST5', 'KBA05_KRSAQUOT', 'KBA05_KRSHERST1', 'KBA05_KRSHERST2', 'KBA05_KRSHERST3', 'KBA05_KRSKLEIN', 'KBA05_KRSOBER', 'KBA05_KRSVAN', 'KBA05_KRSZUL', 'KBA05_KW1', 'KBA05_KW2', 'KBA05_KW3', 'KBA05_MAXAH', 'KBA05_MAXBJ', 'KBA05_MAXSEG', 'KBA05_MAXVORB', 'KBA05_MOD1', 'KBA05_MOD2', 'KBA05_MOD3', 'KBA05_MOD4', 'KBA05_MOD8', 'KBA05_MOTOR', 'KBA05_MOTRAD', 'KBA05_SEG1', 'KBA05_SEG10', 'KBA05_SEG2', 'KBA05_SEG3', 'KBA05_SEG4', 'KBA05_SEG5', 'KBA05_SEG7', 'KBA05_SEG8', 'KBA05_SEG9', 'KBA05_VORB0', 'KBA05_VORB1', 'KBA05_VORB2', 'KBA05_ZUL1', 'KBA05_ZUL2', 'KBA05_ZUL3', 'KBA05_ZUL4', 'KOMBIALTER', 'RELAT_AB', 'ALTERSKATEGORIE_GROB']"
   ]
  },
  {
   "cell_type": "code",
   "execution_count": null,
   "metadata": {},
   "outputs": [],
   "source": [
    "for var in recode_ordinal:\n",
    "    l = customers[var].unique()\n",
    "    print(var, sorted(l[~(np.isnan(l))]))"
   ]
  },
  {
   "cell_type": "code",
   "execution_count": null,
   "metadata": {
    "scrolled": true
   },
   "outputs": [],
   "source": [
    "# check values are ordered or not\n",
    "\n",
    "def CheckOrdinal(data):\n",
    "    need_recode = []\n",
    "    var_ordinal = ['AKT_DAT_KL','ALTER_HH','ALTER_KIND1','ALTER_KIND2','ALTER_KIND3','ALTER_KIND4','ARBEIT','BALLRAUM','D19_BANKEN_ANZ_12','D19_BANKEN_ANZ_24','D19_BANKEN_DATUM','D19_BANKEN_OFFLINE_DATUM','D19_BANKEN_ONLINE_DATUM','D19_BANKEN_ONLINE_QUOTE_12','D19_GESAMT_ANZ_12','D19_GESAMT_ANZ_24','D19_GESAMT_DATUM','D19_GESAMT_OFFLINE_DATUM','D19_GESAMT_ONLINE_DATUM','D19_GESAMT_ONLINE_QUOTE_12','D19_TELKO_ANZ_12','D19_TELKO_ANZ_24','D19_TELKO_DATUM','D19_TELKO_OFFLINE_DATUM','D19_TELKO_ONLINE_DATUM','D19_TELKO_ONLINE_QUOTE_12','D19_VERSAND_ANZ_12','D19_VERSAND_ANZ_24','D19_VERSAND_DATUM','D19_VERSAND_OFFLINE_DATUM','D19_VERSAND_ONLINE_DATUM','D19_VERSAND_ONLINE_QUOTE_12','D19_VERSI_ANZ_12','D19_VERSI_ANZ_24','D19_VERSI_DATUM','D19_VERSI_OFFLINE_DATUM','D19_VERSI_ONLINE_DATUM','D19_VERSI_ONLINE_QUOTE_12','EWDICHTE','FINANZ_ANLEGER','FINANZ_HAUSBAUER','FINANZ_MINIMALIST','FINANZ_SPARER','FINANZ_UNAUFFAELLIGER','FINANZ_VORSORGER','FIRMENDICHTE','HH_EINKOMMEN_SCORE','INNENSTADT','KBA05_ALTER1','KBA05_ALTER2','KBA05_ALTER3','KBA05_ALTER4','KBA05_ANHANG','KBA05_ANTG1','KBA05_ANTG2','KBA05_ANTG3','KBA05_ANTG4','KBA05_AUTOQUOT','KBA05_BAUMAX','KBA05_CCM1','KBA05_CCM2','KBA05_CCM3','KBA05_CCM4','KBA05_DIESEL','KBA05_FRAU','KBA05_GBZ','KBA05_HERST1','KBA05_HERST2','KBA05_HERST3','KBA05_HERST4','KBA05_HERST5','KBA05_KRSAQUOT','KBA05_KRSHERST1','KBA05_KRSHERST2','KBA05_KRSHERST3','KBA05_KRSKLEIN','KBA05_KRSOBER','KBA05_KRSVAN','KBA05_KRSZUL','KBA05_KW1','KBA05_KW2','KBA05_KW3','KBA05_MAXAH','KBA05_MAXBJ','KBA05_MAXSEG','KBA05_MAXVORB','KBA05_MOD1','KBA05_MOD2','KBA05_MOD3','KBA05_MOD4','KBA05_MOD8','KBA05_MODTEMP','KBA05_MOTOR','KBA05_MOTRAD','KBA05_SEG1','KBA05_SEG10','KBA05_SEG2','KBA05_SEG3','KBA05_SEG4','KBA05_SEG5','KBA05_SEG7','KBA05_SEG8','KBA05_SEG9','KBA05_VORB0','KBA05_VORB1','KBA05_VORB2','KBA05_ZUL1','KBA05_ZUL2','KBA05_ZUL3','KBA05_ZUL4','KBA13_ALTERHALTER_30','KBA13_ALTERHALTER_45','KBA13_ALTERHALTER_60','KBA13_ALTERHALTER_61','KBA13_ANTG1','KBA13_ANTG2','KBA13_ANTG3','KBA13_ANTG4','KBA13_AUDI','KBA13_AUTOQUOTE','KBA13_BAUMAX','KBA13_BJ_1999','KBA13_BJ_2000','KBA13_BJ_2004','KBA13_BJ_2006','KBA13_BJ_2008','KBA13_BJ_2009','KBA13_BMW','KBA13_CCM_0_1400','KBA13_CCM_1000','KBA13_CCM_1200','KBA13_CCM_1400','KBA13_CCM_1401_2500','KBA13_CCM_1500','KBA13_CCM_1600','KBA13_CCM_1800','KBA13_CCM_2000','KBA13_CCM_2500','KBA13_CCM_2501','KBA13_CCM_3000','KBA13_CCM_3001','KBA13_FAB_ASIEN','KBA13_FAB_SONSTIGE','KBA13_FIAT','KBA13_FORD','KBA13_GBZ','KBA13_HALTER_20','KBA13_HALTER_25','KBA13_HALTER_30','KBA13_HALTER_35','KBA13_HALTER_40','KBA13_HALTER_45','KBA13_HALTER_50','KBA13_HALTER_55','KBA13_HALTER_60','KBA13_HALTER_65','KBA13_HALTER_66','KBA13_HERST_ASIEN','KBA13_HERST_AUDI_VW','KBA13_HERST_BMW_BENZ','KBA13_HERST_EUROPA','KBA13_HERST_FORD_OPEL','KBA13_HERST_SONST','KBA13_HHZ','KBA13_KMH_0_140','KBA13_KMH_110','KBA13_KMH_140','KBA13_KMH_140_210','KBA13_KMH_180','KBA13_KMH_210','KBA13_KMH_211','KBA13_KMH_250','KBA13_KMH_251','KBA13_KRSAQUOT','KBA13_KRSHERST_AUDI_VW','KBA13_KRSHERST_BMW_BENZ','KBA13_KRSHERST_FORD_OPEL','KBA13_KRSSEG_KLEIN','KBA13_KRSSEG_OBER','KBA13_KRSSEG_VAN','KBA13_KRSZUL_NEU','KBA13_KW_0_60','KBA13_KW_110','KBA13_KW_120','KBA13_KW_121','KBA13_KW_30','KBA13_KW_40','KBA13_KW_50','KBA13_KW_60','KBA13_KW_61_120','KBA13_KW_70','KBA13_KW_80','KBA13_KW_90','KBA13_MAZDA','KBA13_MERCEDES','KBA13_MOTOR','KBA13_NISSAN','KBA13_OPEL','KBA13_PEUGEOT','KBA13_RENAULT','KBA13_SEG_GELAENDEWAGEN','KBA13_SEG_GROSSRAUMVANS','KBA13_SEG_KLEINST','KBA13_SEG_KLEINWAGEN','KBA13_SEG_KOMPAKTKLASSE','KBA13_SEG_MINIVANS','KBA13_SEG_MINIWAGEN','KBA13_SEG_MITTELKLASSE','KBA13_SEG_OBEREMITTELKLASSE','KBA13_SEG_OBERKLASSE','KBA13_SEG_SONSTIGE','KBA13_SEG_SPORTWAGEN','KBA13_SEG_UTILITIES','KBA13_SEG_VAN','KBA13_SEG_WOHNMOBILE','KBA13_SITZE_4','KBA13_SITZE_5','KBA13_SITZE_6','KBA13_TOYOTA','KBA13_VORB_0','KBA13_VORB_1','KBA13_VORB_1_2','KBA13_VORB_2','KBA13_VORB_3','KBA13_VW','KKK','KOMBIALTER','MOBI_RASTER','MOBI_REGIO','ORTSGR_KLS9','PLZ8_ANTG1','PLZ8_ANTG2','PLZ8_ANTG3','PLZ8_ANTG4','PLZ8_BAUMAX','PLZ8_GBZ','PLZ8_HHZ','RELAT_AB','RT_KEIN_ANREIZ','RT_SCHNAEPPCHEN','RT_UEBERGROESSE','SEMIO_DOM','SEMIO_ERL','SEMIO_FAM','SEMIO_KAEM','SEMIO_KRIT','SEMIO_KULT','SEMIO_LUST','SEMIO_MAT','SEMIO_PFLICHT','SEMIO_RAT','SEMIO_REL','SEMIO_SOZ','SEMIO_TRADV','SEMIO_VERT','STRUKTURTYP','UMFELD_ALT','UMFELD_JUNG','VHA','VHN','VK_DHT4A','VK_DISTANZ','VK_ZG11','W_KEIT_KIND_HH','WOHNDAUER_2008','ALTERSKATEGORIE_GROB']\n",
    "    for var in var_ordinal:\n",
    "        l = data[var].unique()\n",
    "        w = l[~(np.isnan(l))]\n",
    "        end = len(w) -1\n",
    "        if w.max() - w.min() + 1 != len(w) and sorted(w)[end] - sorted(w)[end-1] != 1:\n",
    "            print(var, sorted(w))\n",
    "            need_recode.append(var)\n",
    "    print('All checked!') "
   ]
  },
  {
   "cell_type": "code",
   "execution_count": null,
   "metadata": {},
   "outputs": [],
   "source": [
    "CheckOrdinal(customers)"
   ]
  },
  {
   "cell_type": "code",
   "execution_count": null,
   "metadata": {},
   "outputs": [],
   "source": [
    "CheckOrdinal(azdias)"
   ]
  },
  {
   "cell_type": "code",
   "execution_count": null,
   "metadata": {},
   "outputs": [],
   "source": [
    "## recode 9 into missing value\n",
    "\n",
    "def RecoderOrdinal(data):\n",
    "    recode_ordinal = ['ARBEIT', 'KBA05_ALTER1', 'KBA05_ALTER2', 'KBA05_ALTER3', 'KBA05_ALTER4', 'KBA05_ANHANG', 'KBA05_AUTOQUOT', 'KBA05_CCM1', 'KBA05_CCM2', 'KBA05_CCM3', 'KBA05_CCM4', 'KBA05_DIESEL', 'KBA05_FRAU', 'KBA05_HERST1', 'KBA05_HERST2', 'KBA05_HERST3', 'KBA05_HERST4', 'KBA05_HERST5', 'KBA05_KRSAQUOT', 'KBA05_KRSHERST1', 'KBA05_KRSHERST2', 'KBA05_KRSHERST3', 'KBA05_KRSKLEIN', 'KBA05_KRSOBER', 'KBA05_KRSVAN', 'KBA05_KRSZUL', 'KBA05_KW1', 'KBA05_KW2', 'KBA05_KW3', 'KBA05_MAXAH', 'KBA05_MAXBJ', 'KBA05_MAXSEG', 'KBA05_MAXVORB', 'KBA05_MOD1', 'KBA05_MOD2', 'KBA05_MOD3', 'KBA05_MOD4', 'KBA05_MOD8', 'KBA05_MOTOR', 'KBA05_MOTRAD', 'KBA05_SEG1', 'KBA05_SEG10', 'KBA05_SEG2', 'KBA05_SEG3', 'KBA05_SEG4', 'KBA05_SEG5', 'KBA05_SEG7', 'KBA05_SEG8', 'KBA05_SEG9', 'KBA05_VORB0', 'KBA05_VORB1', 'KBA05_VORB2', 'KBA05_ZUL1', 'KBA05_ZUL2', 'KBA05_ZUL3', 'KBA05_ZUL4', 'KOMBIALTER', 'RELAT_AB', 'ALTERSKATEGORIE_GROB']\n",
    "    for var in recode_ordinal:\n",
    "        if 9 in data[var].unique():\n",
    "            print(var, 'has been recoded.')\n",
    "            data.loc[:,var] = np.where(data[var]==9, np.nan, data[var])\n",
    "        \n",
    "    print('All chceked!')"
   ]
  },
  {
   "cell_type": "code",
   "execution_count": null,
   "metadata": {},
   "outputs": [],
   "source": [
    "RecoderOrdinal(customers)"
   ]
  },
  {
   "cell_type": "code",
   "execution_count": null,
   "metadata": {
    "scrolled": true
   },
   "outputs": [],
   "source": [
    "RecoderOrdinal(azdias)"
   ]
  },
  {
   "cell_type": "code",
   "execution_count": null,
   "metadata": {},
   "outputs": [],
   "source": [
    "CheckOrdinal(customers)"
   ]
  },
  {
   "cell_type": "code",
   "execution_count": null,
   "metadata": {},
   "outputs": [],
   "source": [
    "CheckOrdinal(azdias)"
   ]
  },
  {
   "cell_type": "markdown",
   "metadata": {},
   "source": [
    "#### Data Preprocessing for variables needed calculating"
   ]
  },
  {
   "cell_type": "code",
   "execution_count": null,
   "metadata": {},
   "outputs": [],
   "source": [
    "for var in var_date:\n",
    "    print(var, customers[var].nunique())"
   ]
  },
  {
   "cell_type": "code",
   "execution_count": null,
   "metadata": {},
   "outputs": [],
   "source": [
    "def RecoderDatetime(data):\n",
    "    var_date = ['EINGEFUEGT_AM','EINGEZOGENAM_HH_JAHR','GEBURTSJAHR','MIN_GEBAEUDEJAHR']\n",
    "    t1 = pd.to_datetime('2020-1-1')\n",
    "    for var in var_date:\n",
    "        data.loc[:,var] = data[var].astype('datetime64[ns]')\n",
    "        data.loc[:,var] = t1 - data[var]"
   ]
  },
  {
   "cell_type": "code",
   "execution_count": null,
   "metadata": {
    "scrolled": false
   },
   "outputs": [],
   "source": [
    "%%time\n",
    "RecoderDatetime(customers)"
   ]
  },
  {
   "cell_type": "code",
   "execution_count": null,
   "metadata": {},
   "outputs": [],
   "source": [
    "%%time\n",
    "RecoderDatetime(azdias)"
   ]
  },
  {
   "cell_type": "markdown",
   "metadata": {},
   "source": [
    "#### Data Preprocessing for categorical variables"
   ]
  },
  {
   "cell_type": "code",
   "execution_count": null,
   "metadata": {},
   "outputs": [],
   "source": [
    "for var in var_categorical:\n",
    "    print(var, customers[var].nunique())"
   ]
  },
  {
   "cell_type": "code",
   "execution_count": null,
   "metadata": {},
   "outputs": [],
   "source": [
    "for var in var_categorical:\n",
    "    if customers[var].nunique() < 50:\n",
    "        print(var, customers[var].unique())"
   ]
  },
  {
   "cell_type": "code",
   "execution_count": null,
   "metadata": {},
   "outputs": [],
   "source": [
    "customers.to_csv('customers.csv')"
   ]
  },
  {
   "cell_type": "code",
   "execution_count": null,
   "metadata": {},
   "outputs": [],
   "source": [
    "azdias.to_csv('azdias.csv')"
   ]
  },
  {
   "cell_type": "code",
   "execution_count": null,
   "metadata": {},
   "outputs": [],
   "source": [
    "def CheckCategories(data1, data2):\n",
    "    var_categorical = ['AGER_TYP','ALTERSKATEGORIE_FEIN','CAMEO_DEU_2015','CAMEO_DEUG_2015','CAMEO_INTL_2015','CJT_GESAMTTYP','CJT_KATALOGNUTZER','CJT_TYP_1','CJT_TYP_2','CJT_TYP_3','CJT_TYP_4','CJT_TYP_5','CJT_TYP_6','D19_BANKEN_DIREKT','D19_BANKEN_GROSS','D19_BANKEN_LOKAL','D19_BANKEN_REST','D19_BEKLEIDUNG_GEH','D19_BEKLEIDUNG_REST','D19_BILDUNG','D19_BIO_OEKO','D19_BUCH_CD','D19_DIGIT_SERV','D19_DROGERIEARTIKEL','D19_ENERGIE','D19_FREIZEIT','D19_GARTEN','D19_HANDWERK','D19_HAUS_DEKO','D19_KINDERARTIKEL','D19_KONSUMTYP','D19_KONSUMTYP_MAX','D19_KOSMETIK','D19_LEBENSMITTEL','D19_LETZTER_KAUF_BRANCHE','D19_LOTTO','D19_NAHRUNGSERGAENZUNG','D19_RATGEBER','D19_REISEN','D19_SAMMELARTIKEL','D19_SCHUHE','D19_SONSTIGE','D19_SOZIALES','D19_TECHNIK','D19_TELKO_MOBILE','D19_TELKO_REST','D19_TIERARTIKEL','D19_VERSAND_REST','D19_VERSICHERUNGEN','D19_VOLLSORTIMENT','D19_WEIN_FEINKOST','DSL_FLAG','EXTSEL992','FINANZTYP','GEBAEUDETYP','GEBAEUDETYP_RASTER','GEMEINDETYP','GFK_URLAUBERTYP','HEALTH_TYP','KBA05_HERSTTEMP','KBA05_MAXHERST','KK_KUNDENTYP','KONSUMNAEHE','LP_FAMILIE_FEIN','LP_FAMILIE_GROB','LP_LEBENSPHASE_FEIN','LP_LEBENSPHASE_GROB','LP_STATUS_FEIN','LP_STATUS_GROB','NATIONALITAET_KZ','ONLINE_AFFINITAET','OST_WEST_KZ','PRAEGENDE_JUGENDJAHRE','REGIOTYP','RETOURTYP_BK_S','SHOPPER_TYP','TITEL_KZ','VERDICHTUNGSRAUM','VERS_TYP','WOHNLAGE','ZABEOTYP']\n",
    "    for var in var_categorical:\n",
    "        if set(data1[var].unique()) > set(data2[var].unique()):\n",
    "            print(var, 'has different categories.')\n",
    "        else:\n",
    "            print(var, 'is checked.')"
   ]
  },
  {
   "cell_type": "code",
   "execution_count": null,
   "metadata": {},
   "outputs": [],
   "source": [
    "CheckCategories(data1=customers, data2=azdias)"
   ]
  },
  {
   "cell_type": "code",
   "execution_count": null,
   "metadata": {},
   "outputs": [],
   "source": [
    "# feature encoding for categorical variables\n",
    "\n",
    "def RecoderCatergorical(data1, data2):\n",
    "    total_cnt = data1.shape[0]\n",
    "    var_categorical = ['AGER_TYP','ALTERSKATEGORIE_FEIN','CAMEO_DEU_2015','CAMEO_DEUG_2015','CAMEO_INTL_2015','CJT_GESAMTTYP','CJT_KATALOGNUTZER','CJT_TYP_1','CJT_TYP_2','CJT_TYP_3','CJT_TYP_4','CJT_TYP_5','CJT_TYP_6','D19_BANKEN_DIREKT','D19_BANKEN_GROSS','D19_BANKEN_LOKAL','D19_BANKEN_REST','D19_BEKLEIDUNG_GEH','D19_BEKLEIDUNG_REST','D19_BILDUNG','D19_BIO_OEKO','D19_BUCH_CD','D19_DIGIT_SERV','D19_DROGERIEARTIKEL','D19_ENERGIE','D19_FREIZEIT','D19_GARTEN','D19_HANDWERK','D19_HAUS_DEKO','D19_KINDERARTIKEL','D19_KONSUMTYP','D19_KONSUMTYP_MAX','D19_KOSMETIK','D19_LEBENSMITTEL','D19_LETZTER_KAUF_BRANCHE','D19_LOTTO','D19_NAHRUNGSERGAENZUNG','D19_RATGEBER','D19_REISEN','D19_SAMMELARTIKEL','D19_SCHUHE','D19_SONSTIGE','D19_SOZIALES','D19_TECHNIK','D19_TELKO_MOBILE','D19_TELKO_REST','D19_TIERARTIKEL','D19_VERSAND_REST','D19_VERSICHERUNGEN','D19_VOLLSORTIMENT','D19_WEIN_FEINKOST','DSL_FLAG','EXTSEL992','FINANZTYP','GEBAEUDETYP','GEBAEUDETYP_RASTER','GEMEINDETYP','GFK_URLAUBERTYP','HEALTH_TYP','KBA05_HERSTTEMP','KBA05_MAXHERST','KK_KUNDENTYP','KONSUMNAEHE','LP_FAMILIE_FEIN','LP_FAMILIE_GROB','LP_LEBENSPHASE_FEIN','LP_LEBENSPHASE_GROB','LP_STATUS_FEIN','LP_STATUS_GROB','NATIONALITAET_KZ','ONLINE_AFFINITAET','OST_WEST_KZ','PRAEGENDE_JUGENDJAHRE','REGIOTYP','RETOURTYP_BK_S','SHOPPER_TYP','TITEL_KZ','VERDICHTUNGSRAUM','VERS_TYP','WOHNLAGE','ZABEOTYP']\n",
    "    for var in var_categorical:\n",
    "        tmp_dict = (data1[var].value_counts(dropna=False) / total_cnt).to_dict()\n",
    "        data1.loc[:,var] = data1[var].map(tmp_dict)\n",
    "        data2.loc[:,var] = data2[var].map(tmp_dict)\n"
   ]
  },
  {
   "cell_type": "code",
   "execution_count": null,
   "metadata": {},
   "outputs": [],
   "source": [
    "FrequencyEncoding(data1=customers, data2=azdias)"
   ]
  },
  {
   "cell_type": "markdown",
   "metadata": {},
   "source": [
    "#### Missing value imputation\n",
    "\n",
    "* impute zero for ordinal variables and binary variables\n",
    "* impute median value for numeric variables and datetime variables\n",
    "* we have already taken missing value into account when performing frequency encoding, so we do not need to impute missing value for categorical variables"
   ]
  },
  {
   "cell_type": "code",
   "execution_count": null,
   "metadata": {},
   "outputs": [],
   "source": [
    "def CheckMissing(data):\n",
    "    total_cnt = data.shape[0]\n",
    "    for var in var_numeric+var_binary+var_ordinal+var_date:\n",
    "        print(var, round(data[var].isnull().sum() / total_cnt,4))"
   ]
  },
  {
   "cell_type": "code",
   "execution_count": null,
   "metadata": {},
   "outputs": [],
   "source": [
    "CheckMissing(customers)"
   ]
  },
  {
   "cell_type": "code",
   "execution_count": null,
   "metadata": {},
   "outputs": [],
   "source": [
    "CheckMissing(azdias)"
   ]
  },
  {
   "cell_type": "code",
   "execution_count": null,
   "metadata": {},
   "outputs": [],
   "source": [
    "def MissingImpute(data):\n",
    "    data.loc[:,var_numeric] = data[var_numeric].fillna(data[var_numeric].median())\n",
    "    data.loc[:,var_date] = data[var_date].fillna(data[var_date].median())\n",
    "    data.loc[:,var_binary] = data[var_binary].fillna(0)\n",
    "    data.loc[:,var_ordinal] = data[var_ordinal].fillna(0)"
   ]
  },
  {
   "cell_type": "markdown",
   "metadata": {},
   "source": [
    "#### Drop for redundent columns"
   ]
  },
  {
   "cell_type": "code",
   "execution_count": null,
   "metadata": {},
   "outputs": [],
   "source": [
    "# fine vs rough"
   ]
  },
  {
   "cell_type": "code",
   "execution_count": null,
   "metadata": {},
   "outputs": [],
   "source": []
  },
  {
   "cell_type": "code",
   "execution_count": null,
   "metadata": {},
   "outputs": [],
   "source": [
    "#Custom Transformer that extracts columns passed as argument to its constructor \n",
    "class FeatureSelector( BaseEstimator, TransformerMixin ):\n",
    "    #Class Constructor \n",
    "    def __init__( self, feature_names ):\n",
    "        self._feature_names = feature_names \n",
    "    \n",
    "    #Return self nothing else to do here    \n",
    "    def fit( self, X, y = None ):\n",
    "        return self \n",
    "    \n",
    "    #Method that describes what we need this transformer to do\n",
    "    def transform( self, X, y = None ):\n",
    "        return X[ self._feature_names ] "
   ]
  },
  {
   "cell_type": "code",
   "execution_count": null,
   "metadata": {},
   "outputs": [],
   "source": [
    "class BinaryTransformer(BaseEstimator, TransformerMixin):\n",
    "    #Class Constructor\n",
    "    def __init__( self ):\n",
    "        pass\n",
    "        \n",
    "    #Return self, nothing else to do here\n",
    "    def fit( self, X, y = None ):\n",
    "        return self \n",
    "    \n",
    "    #Custom transform method we wrote that creates aformentioned features and drops redundant ones \n",
    "    def transform(self, X, y = None):\n",
    "        X.loc[:,'ANREDE_KZ'] = X['ANREDE_KZ'].map({1:0,2:1})\n",
    "        X = X.map({0:0,1:1})\n",
    "        \n",
    "        return X.values"
   ]
  },
  {
   "cell_type": "code",
   "execution_count": null,
   "metadata": {},
   "outputs": [],
   "source": [
    "class OrdinalTransformer(BaseEstimator, TransformerMixin):\n",
    "    #Class Constructor\n",
    "    def __init__( self ):\n",
    "        pass\n",
    "        \n",
    "    #Return self, nothing else to do here\n",
    "    def fit( self, X, y = None ):\n",
    "        return self \n",
    "    \n",
    "    #Custom transform method we wrote that creates aformentioned features and drops redundant ones \n",
    "    def transform(self, X, y = None):\n",
    "        X.loc[:,'ANREDE_KZ'] = X['ANREDE_KZ'].map({1:0,2:1})\n",
    "        X = X.map({0:0,1:1})\n",
    "        \n",
    "        return X.values"
   ]
  },
  {
   "cell_type": "code",
   "execution_count": null,
   "metadata": {},
   "outputs": [],
   "source": [
    "## recode 9 into missing value\n",
    "\n",
    "def RecoderOrdinal(data):\n",
    "    recode_ordinal = ['ARBEIT', 'KBA05_ALTER1', 'KBA05_ALTER2', 'KBA05_ALTER3', 'KBA05_ALTER4', 'KBA05_ANHANG', 'KBA05_AUTOQUOT', 'KBA05_CCM1', 'KBA05_CCM2', 'KBA05_CCM3', 'KBA05_CCM4', 'KBA05_DIESEL', 'KBA05_FRAU', 'KBA05_HERST1', 'KBA05_HERST2', 'KBA05_HERST3', 'KBA05_HERST4', 'KBA05_HERST5', 'KBA05_KRSAQUOT', 'KBA05_KRSHERST1', 'KBA05_KRSHERST2', 'KBA05_KRSHERST3', 'KBA05_KRSKLEIN', 'KBA05_KRSOBER', 'KBA05_KRSVAN', 'KBA05_KRSZUL', 'KBA05_KW1', 'KBA05_KW2', 'KBA05_KW3', 'KBA05_MAXAH', 'KBA05_MAXBJ', 'KBA05_MAXSEG', 'KBA05_MAXVORB', 'KBA05_MOD1', 'KBA05_MOD2', 'KBA05_MOD3', 'KBA05_MOD4', 'KBA05_MOD8', 'KBA05_MOTOR', 'KBA05_MOTRAD', 'KBA05_SEG1', 'KBA05_SEG10', 'KBA05_SEG2', 'KBA05_SEG3', 'KBA05_SEG4', 'KBA05_SEG5', 'KBA05_SEG7', 'KBA05_SEG8', 'KBA05_SEG9', 'KBA05_VORB0', 'KBA05_VORB1', 'KBA05_VORB2', 'KBA05_ZUL1', 'KBA05_ZUL2', 'KBA05_ZUL3', 'KBA05_ZUL4', 'KOMBIALTER', 'RELAT_AB', 'ALTERSKATEGORIE_GROB']\n",
    "    for var in recode_ordinal:\n",
    "        if 9 in data[var].unique():\n",
    "            print(var, 'has been recoded.')\n",
    "            data.loc[:,var] = np.where(data[var]==9, np.nan, data[var])\n",
    "        \n",
    "    print('All chceked!')"
   ]
  },
  {
   "cell_type": "code",
   "execution_count": null,
   "metadata": {},
   "outputs": [],
   "source": []
  },
  {
   "cell_type": "code",
   "execution_count": null,
   "metadata": {},
   "outputs": [],
   "source": []
  },
  {
   "cell_type": "code",
   "execution_count": null,
   "metadata": {},
   "outputs": [],
   "source": []
  },
  {
   "cell_type": "code",
   "execution_count": null,
   "metadata": {},
   "outputs": [],
   "source": []
  },
  {
   "cell_type": "markdown",
   "metadata": {},
   "source": [
    "## Part 1: Customer Segmentation Report\n",
    "\n",
    "The main bulk of your analysis will come in this part of the project. Here, you should use unsupervised learning techniques to describe the relationship between the demographics of the company's existing customers and the general population of Germany. By the end of this part, you should be able to describe parts of the general population that are more likely to be part of the mail-order company's main customer base, and which parts of the general population are less so."
   ]
  },
  {
   "cell_type": "code",
   "execution_count": null,
   "metadata": {},
   "outputs": [],
   "source": []
  },
  {
   "cell_type": "markdown",
   "metadata": {},
   "source": [
    "## Part 2: Supervised Learning Model\n",
    "\n",
    "Now that you've found which parts of the population are more likely to be customers of the mail-order company, it's time to build a prediction model. Each of the rows in the \"MAILOUT\" data files represents an individual that was targeted for a mailout campaign. Ideally, we should be able to use the demographic information from each individual to decide whether or not it will be worth it to include that person in the campaign.\n",
    "\n",
    "The \"MAILOUT\" data has been split into two approximately equal parts, each with almost 43 000 data rows. In this part, you can verify your model with the \"TRAIN\" partition, which includes a column, \"RESPONSE\", that states whether or not a person became a customer of the company following the campaign. In the next part, you'll need to create predictions on the \"TEST\" partition, where the \"RESPONSE\" column has been withheld."
   ]
  },
  {
   "cell_type": "code",
   "execution_count": null,
   "metadata": {},
   "outputs": [],
   "source": [
    "mailout_train = pd.read_csv('../../data/Term2/capstone/arvato_data/Udacity_MAILOUT_052018_TRAIN.csv', sep=';')"
   ]
  },
  {
   "cell_type": "code",
   "execution_count": null,
   "metadata": {},
   "outputs": [],
   "source": []
  },
  {
   "cell_type": "markdown",
   "metadata": {},
   "source": [
    "## Part 3: Kaggle Competition\n",
    "\n",
    "Now that you've created a model to predict which individuals are most likely to respond to a mailout campaign, it's time to test that model in competition through Kaggle. If you click on the link [here](http://www.kaggle.com/t/21e6d45d4c574c7fa2d868f0e8c83140), you'll be taken to the competition page where, if you have a Kaggle account, you can enter.\n",
    "\n",
    "Your entry to the competition should be a CSV file with two columns. The first column should be a copy of \"LNR\", which acts as an ID number for each individual in the \"TEST\" partition. The second column, \"RESPONSE\", should be some measure of how likely each individual became a customer – this might not be a straightforward probability. As you should have found in Part 2, there is a large output class imbalance, where most individuals did not respond to the mailout. Thus, predicting individual classes and using accuracy does not seem to be an appropriate performance evaluation method. Instead, the competition will be using AUC to evaluate performance. The exact values of the \"RESPONSE\" column do not matter as much: only that the higher values try to capture as many of the actual customers as possible, early in the ROC curve sweep."
   ]
  },
  {
   "cell_type": "code",
   "execution_count": null,
   "metadata": {},
   "outputs": [],
   "source": [
    "mailout_test = pd.read_csv('../../data/Term2/capstone/arvato_data/Udacity_MAILOUT_052018_TEST.csv', sep=';')"
   ]
  },
  {
   "cell_type": "code",
   "execution_count": null,
   "metadata": {},
   "outputs": [],
   "source": []
  }
 ],
 "metadata": {
  "kernelspec": {
   "display_name": "Python 3",
   "language": "python",
   "name": "python3"
  },
  "language_info": {
   "codemirror_mode": {
    "name": "ipython",
    "version": 3
   },
   "file_extension": ".py",
   "mimetype": "text/x-python",
   "name": "python",
   "nbconvert_exporter": "python",
   "pygments_lexer": "ipython3",
   "version": "3.6.3"
  }
 },
 "nbformat": 4,
 "nbformat_minor": 2
}
